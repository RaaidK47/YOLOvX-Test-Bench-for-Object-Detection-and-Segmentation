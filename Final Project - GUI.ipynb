{
 "cells": [
  {
   "cell_type": "code",
   "execution_count": 32,
   "metadata": {},
   "outputs": [
    {
     "name": "stdout",
     "output_type": "stream",
     "text": [
      "\n",
      "Collecting usage statistics. To deactivate, set browser.gatherUsageStats to false.\n",
      "\u001b[0m\n",
      "\u001b[0m\n",
      "\u001b[34m\u001b[1m  You can now view your Streamlit app in your browser.\u001b[0m\n",
      "\u001b[0m\n",
      "\u001b[34m  Local URL: \u001b[0m\u001b[1mhttp://localhost:8501\u001b[0m\n",
      "\u001b[34m  Network URL: \u001b[0m\u001b[1mhttp://172.22.0.2:8501\u001b[0m\n",
      "\u001b[34m  External URL: \u001b[0m\u001b[1mhttp://202.165.250.218:8501\u001b[0m\n",
      "\u001b[0m\n",
      "2024-10-04 16:41:39.479 `label` got an empty value. This is discouraged for accessibility reasons and may be disallowed in the future by raising an exception. Please provide a non-empty label and hide it with label_visibility if needed.\n",
      "2024-10-04 16:42:01.657 `label` got an empty value. This is discouraged for accessibility reasons and may be disallowed in the future by raising an exception. Please provide a non-empty label and hide it with label_visibility if needed.\n",
      "\n",
      "0: 512x640 6 birds, 14 kites, 69.9ms\n",
      "Speed: 2.8ms preprocess, 69.9ms inference, 90.2ms postprocess per image at shape (1, 3, 512, 640)\n",
      "Making Boxes With....\n",
      "Rectangle Thickness: 1\n",
      "Text Thickness: 1\n",
      "2024-10-04 16:42:08.714 `label` got an empty value. This is discouraged for accessibility reasons and may be disallowed in the future by raising an exception. Please provide a non-empty label and hide it with label_visibility if needed.\n",
      "\n",
      "0: 512x640 6 birds, 14 kites, 68.8ms\n",
      "Speed: 2.0ms preprocess, 68.8ms inference, 1.6ms postprocess per image at shape (1, 3, 512, 640)\n",
      "Making Boxes With....\n",
      "Rectangle Thickness: 1\n",
      "Text Thickness: 1\n",
      "2024-10-04 16:42:10.742 `label` got an empty value. This is discouraged for accessibility reasons and may be disallowed in the future by raising an exception. Please provide a non-empty label and hide it with label_visibility if needed.\n",
      "\n",
      "0: 512x640 6 birds, 14 kites, 61.9ms\n",
      "Speed: 1.8ms preprocess, 61.9ms inference, 1.3ms postprocess per image at shape (1, 3, 512, 640)\n",
      "Making Boxes With....\n",
      "Rectangle Thickness: 1\n",
      "Text Thickness: 1\n",
      "2024-10-04 16:42:16.802 `label` got an empty value. This is discouraged for accessibility reasons and may be disallowed in the future by raising an exception. Please provide a non-empty label and hide it with label_visibility if needed.\n",
      "\n",
      "0: 512x640 16 persons, 1 bird, 1 backpack, 1 kite, 95.0ms\n",
      "Speed: 1.5ms preprocess, 95.0ms inference, 1.4ms postprocess per image at shape (1, 3, 512, 640)\n",
      "Making Boxes With....\n",
      "Rectangle Thickness: 1\n",
      "Text Thickness: 1\n",
      "2024-10-04 16:42:26.486 `label` got an empty value. This is discouraged for accessibility reasons and may be disallowed in the future by raising an exception. Please provide a non-empty label and hide it with label_visibility if needed.\n",
      "\n",
      "0: 512x640 19 persons, 2 birds, 1 backpack, 1 kite, 82.4ms\n",
      "Speed: 1.9ms preprocess, 82.4ms inference, 1.6ms postprocess per image at shape (1, 3, 512, 640)\n",
      "Making Boxes With....\n",
      "Rectangle Thickness: 1\n",
      "Text Thickness: 1\n",
      "2024-10-04 16:42:31.318 `label` got an empty value. This is discouraged for accessibility reasons and may be disallowed in the future by raising an exception. Please provide a non-empty label and hide it with label_visibility if needed.\n",
      "\n",
      "0: 512x640 10 persons, 106.9ms\n",
      "Speed: 3.2ms preprocess, 106.9ms inference, 1.6ms postprocess per image at shape (1, 3, 512, 640)\n",
      "Making Boxes With....\n",
      "Rectangle Thickness: 1\n",
      "Text Thickness: 1\n",
      "2024-10-04 16:42:37.932 `label` got an empty value. This is discouraged for accessibility reasons and may be disallowed in the future by raising an exception. Please provide a non-empty label and hide it with label_visibility if needed.\n",
      "\n",
      "0: 512x640 (no detections), 89.2ms\n",
      "Speed: 3.3ms preprocess, 89.2ms inference, 0.9ms postprocess per image at shape (1, 3, 512, 640)\n",
      "Making Boxes With....\n",
      "Rectangle Thickness: 1\n",
      "Text Thickness: 1\n",
      "2024-10-04 16:42:41.335 `label` got an empty value. This is discouraged for accessibility reasons and may be disallowed in the future by raising an exception. Please provide a non-empty label and hide it with label_visibility if needed.\n",
      "\n",
      "0: 512x640 10 persons, 102.1ms\n",
      "Speed: 1.7ms preprocess, 102.1ms inference, 1.4ms postprocess per image at shape (1, 3, 512, 640)\n",
      "Making Boxes With....\n",
      "Rectangle Thickness: 1\n",
      "Text Thickness: 1\n",
      "2024-10-04 16:42:48.826 `label` got an empty value. This is discouraged for accessibility reasons and may be disallowed in the future by raising an exception. Please provide a non-empty label and hide it with label_visibility if needed.\n",
      "\n",
      "0: 512x640 15 persons, 1 bird, 1 kite, 88.2ms\n",
      "Speed: 1.7ms preprocess, 88.2ms inference, 2.8ms postprocess per image at shape (1, 3, 512, 640)\n",
      "Making Boxes With....\n",
      "Rectangle Thickness: 1\n",
      "Text Thickness: 1\n",
      "^C\n",
      "\u001b[34m  Stopping...\u001b[0m\n"
     ]
    }
   ],
   "source": [
    "!streamlit run \"/tf/Final Project/Final Project.py\""
   ]
  }
 ],
 "metadata": {
  "kernelspec": {
   "display_name": "Python 3 (ipykernel)",
   "language": "python",
   "name": "python3"
  },
  "language_info": {
   "codemirror_mode": {
    "name": "ipython",
    "version": 3
   },
   "file_extension": ".py",
   "mimetype": "text/x-python",
   "name": "python",
   "nbconvert_exporter": "python",
   "pygments_lexer": "ipython3",
   "version": "3.11.0rc1"
  }
 },
 "nbformat": 4,
 "nbformat_minor": 2
}
